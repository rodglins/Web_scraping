{
  "nbformat": 4,
  "nbformat_minor": 0,
  "metadata": {
    "colab": {
      "name": "NBA-RodrigoAglinskas.ipynb",
      "provenance": []
    },
    "kernelspec": {
      "name": "python3",
      "display_name": "Python 3"
    },
    "language_info": {
      "name": "python"
    }
  },
  "cells": [
    {
      "cell_type": "markdown",
      "metadata": {
        "id": "dgjTZR8pa3vq"
      },
      "source": [
        "* Disciplina: Coleta e Armazenamento de Dados\n",
        "* Técnica: Web Scraping\n",
        "* Linguagem: Python\n",
        "\n",
        "* Aluno: Rodrigo da Costa Aglinskas\n",
        "* Orientador: Fabio Silva Lopes\n",
        "\n",
        "* Data: 29/10/2021"
      ]
    },
    {
      "cell_type": "markdown",
      "metadata": {
        "id": "Rx5c8MAXFiaM"
      },
      "source": [
        "## Desafio:\n",
        "#### Implemente o tutorial disponível no artigo para coletar dados sobre basketball da NBA.\n",
        "\n",
        "* Modifique a apresentação dos resultados utilizando um gráfico de linhas.\n",
        "* Amplie a pesquisa para incluir dados até o ano de 2020."
      ]
    },
    {
      "cell_type": "markdown",
      "metadata": {
        "id": "9NA0ourXwxja"
      },
      "source": [
        "## Web Scraping Dados Esportivos NBA"
      ]
    },
    {
      "cell_type": "code",
      "metadata": {
        "id": "MgfkVkrDZ9jR"
      },
      "source": [
        "import pandas as pd\n",
        "import requests\n",
        "from bs4 import BeautifulSoup"
      ],
      "execution_count": 1,
      "outputs": []
    },
    {
      "cell_type": "code",
      "metadata": {
        "colab": {
          "base_uri": "https://localhost:8080/"
        },
        "id": "XAE746VAdCwO",
        "outputId": "f8dc988f-9b8f-4326-80d2-5a722dfd7c2e"
      },
      "source": [
        "def scrape_stats(base_url, year_start, year_end):\n",
        "    years = range(year_start,year_end+1,1)\n",
        "\n",
        "    final_df = pd.DataFrame()\n",
        "\n",
        "    for year in years:\n",
        "        print('Extraindo ano {}'.format(year))\n",
        "        req_url = base_url.format(year)\n",
        "        req = requests.get(req_url)\n",
        "        soup = BeautifulSoup(req.content, 'html.parser')\n",
        "        table = soup.find('table', {'id':'totals_stats'})\n",
        "        df = pd.read_html(str(table))[0]\n",
        "        df['Year'] = year\n",
        "        final_df = final_df.append(df)\n",
        "    return final_df\n",
        "url = 'https://www.basketball-reference.com/leagues/NBA_{}_totals.html'\n",
        "df = scrape_stats(url, 2013, 2020)"
      ],
      "execution_count": 3,
      "outputs": [
        {
          "output_type": "stream",
          "name": "stdout",
          "text": [
            "Extraindo ano 2013\n",
            "Extraindo ano 2014\n",
            "Extraindo ano 2015\n",
            "Extraindo ano 2016\n",
            "Extraindo ano 2017\n",
            "Extraindo ano 2018\n",
            "Extraindo ano 2019\n",
            "Extraindo ano 2020\n"
          ]
        }
      ]
    },
    {
      "cell_type": "code",
      "metadata": {
        "id": "lTI7IjGkdUhp"
      },
      "source": [
        "drop_indexes = df[df['Rk'] == 'Rk'].index # Pega indexes onde a coluna 'Rk' possui valor 'Rk'\n",
        "df.drop(drop_indexes, inplace=True) # elimina os valores dos index passados da tabela"
      ],
      "execution_count": 4,
      "outputs": []
    },
    {
      "cell_type": "code",
      "metadata": {
        "id": "t5U03-Rqdacn"
      },
      "source": [
        "numeric_cols = df.columns.drop(['Player','Pos','Tm'])\n",
        "df[numeric_cols] = df[numeric_cols].apply(pd.to_numeric)"
      ],
      "execution_count": 5,
      "outputs": []
    },
    {
      "cell_type": "code",
      "metadata": {
        "id": "IkwzHjlyqdO5"
      },
      "source": [
        "df.reset_index(inplace=True)"
      ],
      "execution_count": 6,
      "outputs": []
    },
    {
      "cell_type": "code",
      "metadata": {
        "colab": {
          "base_uri": "https://localhost:8080/",
          "height": 279
        },
        "id": "vfakzy4CdfFg",
        "outputId": "2ab325c1-0c5f-4835-c04a-b2a1a246bd80"
      },
      "source": [
        "import matplotlib.pyplot as plt\n",
        "import seaborn as sns\n",
        "ax = sns.barplot(x=\"Year\", y=\"3PA\", data=df)"
      ],
      "execution_count": 7,
      "outputs": [
        {
          "output_type": "display_data",
          "data": {
            "image/png": "[encoded data removed]",
            "text/plain": [
              "<Figure size 432x288 with 1 Axes>"
            ]
          },
          "metadata": {
            "needs_background": "light"
          }
        }
      ]
    },
    {
      "cell_type": "code",
      "metadata": {
        "colab": {
          "base_uri": "https://localhost:8080/",
          "height": 312
        },
        "id": "Uv9sOg68pZGV",
        "outputId": "daa7e2ee-7ff8-4e12-b862-457d61042bdd"
      },
      "source": [
        "df.tail()"
      ],
      "execution_count": 9,
      "outputs": [
        {
          "output_type": "execute_result",
          "data": {
            "text/html": [
              "<div>\n",
              "<style scoped>\n",
              "    .dataframe tbody tr th:only-of-type {\n",
              "        vertical-align: middle;\n",
              "    }\n",
              "\n",
              "    .dataframe tbody tr th {\n",
              "        vertical-align: top;\n",
              "    }\n",
              "\n",
              "    .dataframe thead th {\n",
              "        text-align: right;\n",
              "    }\n",
              "</style>\n",
              "<table border=\"1\" class=\"dataframe\">\n",
              "  <thead>\n",
              "    <tr style=\"text-align: right;\">\n",
              "      <th></th>\n",
              "      <th>index</th>\n",
              "      <th>Rk</th>\n",
              "      <th>Player</th>\n",
              "      <th>Pos</th>\n",
              "      <th>Age</th>\n",
              "      <th>Tm</th>\n",
              "      <th>G</th>\n",
              "      <th>GS</th>\n",
              "      <th>MP</th>\n",
              "      <th>FG</th>\n",
              "      <th>FGA</th>\n",
              "      <th>FG%</th>\n",
              "      <th>3P</th>\n",
              "      <th>3PA</th>\n",
              "      <th>3P%</th>\n",
              "      <th>2P</th>\n",
              "      <th>2PA</th>\n",
              "      <th>2P%</th>\n",
              "      <th>eFG%</th>\n",
              "      <th>FT</th>\n",
              "      <th>FTA</th>\n",
              "      <th>FT%</th>\n",
              "      <th>ORB</th>\n",
              "      <th>DRB</th>\n",
              "      <th>TRB</th>\n",
              "      <th>AST</th>\n",
              "      <th>STL</th>\n",
              "      <th>BLK</th>\n",
              "      <th>TOV</th>\n",
              "      <th>PF</th>\n",
              "      <th>PTS</th>\n",
              "      <th>Year</th>\n",
              "    </tr>\n",
              "  </thead>\n",
              "  <tbody>\n",
              "    <tr>\n",
              "      <th>3986</th>\n",
              "      <td>672</td>\n",
              "      <td>525</td>\n",
              "      <td>Trae Young</td>\n",
              "      <td>PG</td>\n",
              "      <td>21</td>\n",
              "      <td>ATL</td>\n",
              "      <td>60</td>\n",
              "      <td>60</td>\n",
              "      <td>2120</td>\n",
              "      <td>546</td>\n",
              "      <td>1249</td>\n",
              "      <td>0.437</td>\n",
              "      <td>205</td>\n",
              "      <td>568</td>\n",
              "      <td>0.361</td>\n",
              "      <td>341</td>\n",
              "      <td>681</td>\n",
              "      <td>0.501</td>\n",
              "      <td>0.519</td>\n",
              "      <td>481</td>\n",
              "      <td>559</td>\n",
              "      <td>0.860</td>\n",
              "      <td>32</td>\n",
              "      <td>223</td>\n",
              "      <td>255</td>\n",
              "      <td>560</td>\n",
              "      <td>65</td>\n",
              "      <td>8</td>\n",
              "      <td>289</td>\n",
              "      <td>104</td>\n",
              "      <td>1778</td>\n",
              "      <td>2020</td>\n",
              "    </tr>\n",
              "    <tr>\n",
              "      <th>3987</th>\n",
              "      <td>673</td>\n",
              "      <td>526</td>\n",
              "      <td>Cody Zeller</td>\n",
              "      <td>C</td>\n",
              "      <td>27</td>\n",
              "      <td>CHO</td>\n",
              "      <td>58</td>\n",
              "      <td>39</td>\n",
              "      <td>1341</td>\n",
              "      <td>251</td>\n",
              "      <td>479</td>\n",
              "      <td>0.524</td>\n",
              "      <td>18</td>\n",
              "      <td>75</td>\n",
              "      <td>0.240</td>\n",
              "      <td>233</td>\n",
              "      <td>404</td>\n",
              "      <td>0.577</td>\n",
              "      <td>0.543</td>\n",
              "      <td>122</td>\n",
              "      <td>179</td>\n",
              "      <td>0.682</td>\n",
              "      <td>160</td>\n",
              "      <td>251</td>\n",
              "      <td>411</td>\n",
              "      <td>88</td>\n",
              "      <td>40</td>\n",
              "      <td>25</td>\n",
              "      <td>75</td>\n",
              "      <td>140</td>\n",
              "      <td>642</td>\n",
              "      <td>2020</td>\n",
              "    </tr>\n",
              "    <tr>\n",
              "      <th>3988</th>\n",
              "      <td>674</td>\n",
              "      <td>527</td>\n",
              "      <td>Tyler Zeller</td>\n",
              "      <td>C</td>\n",
              "      <td>30</td>\n",
              "      <td>SAS</td>\n",
              "      <td>2</td>\n",
              "      <td>0</td>\n",
              "      <td>4</td>\n",
              "      <td>1</td>\n",
              "      <td>4</td>\n",
              "      <td>0.250</td>\n",
              "      <td>0</td>\n",
              "      <td>0</td>\n",
              "      <td>NaN</td>\n",
              "      <td>1</td>\n",
              "      <td>4</td>\n",
              "      <td>0.250</td>\n",
              "      <td>0.250</td>\n",
              "      <td>0</td>\n",
              "      <td>0</td>\n",
              "      <td>NaN</td>\n",
              "      <td>3</td>\n",
              "      <td>1</td>\n",
              "      <td>4</td>\n",
              "      <td>0</td>\n",
              "      <td>0</td>\n",
              "      <td>0</td>\n",
              "      <td>0</td>\n",
              "      <td>0</td>\n",
              "      <td>2</td>\n",
              "      <td>2020</td>\n",
              "    </tr>\n",
              "    <tr>\n",
              "      <th>3989</th>\n",
              "      <td>675</td>\n",
              "      <td>528</td>\n",
              "      <td>Ante Žižić</td>\n",
              "      <td>C</td>\n",
              "      <td>23</td>\n",
              "      <td>CLE</td>\n",
              "      <td>22</td>\n",
              "      <td>0</td>\n",
              "      <td>221</td>\n",
              "      <td>41</td>\n",
              "      <td>72</td>\n",
              "      <td>0.569</td>\n",
              "      <td>0</td>\n",
              "      <td>0</td>\n",
              "      <td>NaN</td>\n",
              "      <td>41</td>\n",
              "      <td>72</td>\n",
              "      <td>0.569</td>\n",
              "      <td>0.569</td>\n",
              "      <td>14</td>\n",
              "      <td>19</td>\n",
              "      <td>0.737</td>\n",
              "      <td>18</td>\n",
              "      <td>48</td>\n",
              "      <td>66</td>\n",
              "      <td>6</td>\n",
              "      <td>7</td>\n",
              "      <td>5</td>\n",
              "      <td>10</td>\n",
              "      <td>27</td>\n",
              "      <td>96</td>\n",
              "      <td>2020</td>\n",
              "    </tr>\n",
              "    <tr>\n",
              "      <th>3990</th>\n",
              "      <td>676</td>\n",
              "      <td>529</td>\n",
              "      <td>Ivica Zubac</td>\n",
              "      <td>C</td>\n",
              "      <td>22</td>\n",
              "      <td>LAC</td>\n",
              "      <td>72</td>\n",
              "      <td>70</td>\n",
              "      <td>1326</td>\n",
              "      <td>236</td>\n",
              "      <td>385</td>\n",
              "      <td>0.613</td>\n",
              "      <td>0</td>\n",
              "      <td>2</td>\n",
              "      <td>0.000</td>\n",
              "      <td>236</td>\n",
              "      <td>383</td>\n",
              "      <td>0.616</td>\n",
              "      <td>0.613</td>\n",
              "      <td>124</td>\n",
              "      <td>166</td>\n",
              "      <td>0.747</td>\n",
              "      <td>197</td>\n",
              "      <td>346</td>\n",
              "      <td>543</td>\n",
              "      <td>82</td>\n",
              "      <td>16</td>\n",
              "      <td>66</td>\n",
              "      <td>61</td>\n",
              "      <td>168</td>\n",
              "      <td>596</td>\n",
              "      <td>2020</td>\n",
              "    </tr>\n",
              "  </tbody>\n",
              "</table>\n",
              "</div>"
            ],
            "text/plain": [
              "      index   Rk        Player Pos  Age   Tm  ...  STL  BLK  TOV   PF   PTS  Year\n",
              "3986    672  525    Trae Young  PG   21  ATL  ...   65    8  289  104  1778  2020\n",
              "3987    673  526   Cody Zeller   C   27  CHO  ...   40   25   75  140   642  2020\n",
              "3988    674  527  Tyler Zeller   C   30  SAS  ...    0    0    0    0     2  2020\n",
              "3989    675  528    Ante Žižić   C   23  CLE  ...    7    5   10   27    96  2020\n",
              "3990    676  529   Ivica Zubac   C   22  LAC  ...   16   66   61  168   596  2020\n",
              "\n",
              "[5 rows x 32 columns]"
            ]
          },
          "metadata": {},
          "execution_count": 9
        }
      ]
    },
    {
      "cell_type": "code",
      "metadata": {
        "colab": {
          "base_uri": "https://localhost:8080/",
          "height": 279
        },
        "id": "BcnuV106mK7e",
        "outputId": "105ba38a-1605-4e3b-8019-21a7184ed7d0"
      },
      "source": [
        "sns.lineplot(data=df, x=\"Year\", y=\"3PA\")\n",
        "plt.show()"
      ],
      "execution_count": 10,
      "outputs": [
        {
          "output_type": "display_data",
          "data": {
            "image/png": "[encoded data removed]",
            "text/plain": [
              "<Figure size 432x288 with 1 Axes>"
            ]
          },
          "metadata": {
            "needs_background": "light"
          }
        }
      ]
    },
    {
      "cell_type": "code",
      "metadata": {
        "colab": {
          "base_uri": "https://localhost:8080/",
          "height": 205
        },
        "id": "oYY0SQSud_Mi",
        "outputId": "bd8c9423-0898-45f1-e62a-d0bfe4f05ce2"
      },
      "source": [
        "sorted_df = df.sort_values(by=['3P'], axis=0, ascending=False)\n",
        "sorted_df[['Player','3P','Year', '3PA']].head()"
      ],
      "execution_count": 11,
      "outputs": [
        {
          "output_type": "execute_result",
          "data": {
            "text/html": [
              "<div>\n",
              "<style scoped>\n",
              "    .dataframe tbody tr th:only-of-type {\n",
              "        vertical-align: middle;\n",
              "    }\n",
              "\n",
              "    .dataframe tbody tr th {\n",
              "        vertical-align: top;\n",
              "    }\n",
              "\n",
              "    .dataframe thead th {\n",
              "        text-align: right;\n",
              "    }\n",
              "</style>\n",
              "<table border=\"1\" class=\"dataframe\">\n",
              "  <thead>\n",
              "    <tr style=\"text-align: right;\">\n",
              "      <th></th>\n",
              "      <th>Player</th>\n",
              "      <th>3P</th>\n",
              "      <th>Year</th>\n",
              "      <th>3PA</th>\n",
              "    </tr>\n",
              "  </thead>\n",
              "  <tbody>\n",
              "    <tr>\n",
              "      <th>1543</th>\n",
              "      <td>Stephen Curry</td>\n",
              "      <td>402</td>\n",
              "      <td>2016</td>\n",
              "      <td>886</td>\n",
              "    </tr>\n",
              "    <tr>\n",
              "      <th>3112</th>\n",
              "      <td>James Harden</td>\n",
              "      <td>378</td>\n",
              "      <td>2019</td>\n",
              "      <td>1028</td>\n",
              "    </tr>\n",
              "    <tr>\n",
              "      <th>3029</th>\n",
              "      <td>Stephen Curry</td>\n",
              "      <td>354</td>\n",
              "      <td>2019</td>\n",
              "      <td>810</td>\n",
              "    </tr>\n",
              "    <tr>\n",
              "      <th>2000</th>\n",
              "      <td>Stephen Curry</td>\n",
              "      <td>324</td>\n",
              "      <td>2017</td>\n",
              "      <td>789</td>\n",
              "    </tr>\n",
              "    <tr>\n",
              "      <th>3678</th>\n",
              "      <td>James Harden</td>\n",
              "      <td>299</td>\n",
              "      <td>2020</td>\n",
              "      <td>843</td>\n",
              "    </tr>\n",
              "  </tbody>\n",
              "</table>\n",
              "</div>"
            ],
            "text/plain": [
              "             Player   3P  Year   3PA\n",
              "1543  Stephen Curry  402  2016   886\n",
              "3112   James Harden  378  2019  1028\n",
              "3029  Stephen Curry  354  2019   810\n",
              "2000  Stephen Curry  324  2017   789\n",
              "3678   James Harden  299  2020   843"
            ]
          },
          "metadata": {},
          "execution_count": 11
        }
      ]
    },
    {
      "cell_type": "code",
      "metadata": {
        "colab": {
          "base_uri": "https://localhost:8080/",
          "height": 205
        },
        "id": "tw1Xi8Wqem5Y",
        "outputId": "35c3cdd5-0011-408c-a0b0-a170802f7b49"
      },
      "source": [
        "grouped_df = df.groupby('Player', as_index=False).sum()\n",
        "sorted_df = grouped_df.sort_values(by=['3P'], axis=0, ascending=False)\n",
        "sorted_df[['Player','3P','3PA']].head()"
      ],
      "execution_count": 12,
      "outputs": [
        {
          "output_type": "execute_result",
          "data": {
            "text/html": [
              "<div>\n",
              "<style scoped>\n",
              "    .dataframe tbody tr th:only-of-type {\n",
              "        vertical-align: middle;\n",
              "    }\n",
              "\n",
              "    .dataframe tbody tr th {\n",
              "        vertical-align: top;\n",
              "    }\n",
              "\n",
              "    .dataframe thead th {\n",
              "        text-align: right;\n",
              "    }\n",
              "</style>\n",
              "<table border=\"1\" class=\"dataframe\">\n",
              "  <thead>\n",
              "    <tr style=\"text-align: right;\">\n",
              "      <th></th>\n",
              "      <th>Player</th>\n",
              "      <th>3P</th>\n",
              "      <th>3PA</th>\n",
              "    </tr>\n",
              "  </thead>\n",
              "  <tbody>\n",
              "    <tr>\n",
              "      <th>450</th>\n",
              "      <td>James Harden</td>\n",
              "      <td>2004</td>\n",
              "      <td>5530</td>\n",
              "    </tr>\n",
              "    <tr>\n",
              "      <th>959</th>\n",
              "      <td>Stephen Curry</td>\n",
              "      <td>1862</td>\n",
              "      <td>4281</td>\n",
              "    </tr>\n",
              "    <tr>\n",
              "      <th>205</th>\n",
              "      <td>Damian Lillard</td>\n",
              "      <td>1558</td>\n",
              "      <td>4210</td>\n",
              "    </tr>\n",
              "    <tr>\n",
              "      <th>650</th>\n",
              "      <td>Kyle Korver</td>\n",
              "      <td>1503</td>\n",
              "      <td>3385</td>\n",
              "    </tr>\n",
              "    <tr>\n",
              "      <th>652</th>\n",
              "      <td>Kyle Lowry</td>\n",
              "      <td>1194</td>\n",
              "      <td>3232</td>\n",
              "    </tr>\n",
              "  </tbody>\n",
              "</table>\n",
              "</div>"
            ],
            "text/plain": [
              "             Player    3P   3PA\n",
              "450    James Harden  2004  5530\n",
              "959   Stephen Curry  1862  4281\n",
              "205  Damian Lillard  1558  4210\n",
              "650     Kyle Korver  1503  3385\n",
              "652      Kyle Lowry  1194  3232"
            ]
          },
          "metadata": {},
          "execution_count": 12
        }
      ]
    }
  ]
}