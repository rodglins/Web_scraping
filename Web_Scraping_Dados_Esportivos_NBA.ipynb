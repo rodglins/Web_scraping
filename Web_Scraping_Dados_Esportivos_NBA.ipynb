{
  "nbformat": 4,
  "nbformat_minor": 0,
  "metadata": {
    "colab": {
      "name": "NBA-RodrigoAglinskas.ipynb",
      "provenance": []
    },
    "kernelspec": {
      "name": "python3",
      "display_name": "Python 3"
    },
    "language_info": {
      "name": "python"
    }
  },
  "cells": [
    {
      "cell_type": "markdown",
      "metadata": {
        "id": "dgjTZR8pa3vq"
      },
      "source": [
        "Disciplina: Coleta e Armazenamento de Dados\n",
        "Técnica: Web Scraping\n",
        "Linguagem: Python\n",
        "\n",
        "Aluno: Rodrigo da Costa Aglinskas\n",
        "Orientador: Fabio Silva Lopes"
      ]
    },
    {
      "cell_type": "code",
      "metadata": {
        "id": "MgfkVkrDZ9jR"
      },
      "source": [
        "import pandas as pd\n",
        "import requests\n",
        "from bs4 import BeautifulSoup"
      ],
      "execution_count": 1,
      "outputs": []
    },
    {
      "cell_type": "code",
      "metadata": {
        "colab": {
          "base_uri": "https://localhost:8080/"
        },
        "id": "5m8NmgMMbgtf",
        "outputId": "5160ac80-46d2-4f5f-ce8d-5965beaec7d0"
      },
      "source": [
        "req = requests.get('https://www.basketball-reference.com/leagues/NBA_2018_totals.html')\n",
        "if req.status_code == 200:\n",
        "    print('Requisição bem sucedida!')\n",
        "    content = req.content"
      ],
      "execution_count": 2,
      "outputs": [
        {
          "output_type": "stream",
          "name": "stdout",
          "text": [
            "Requisição bem sucedida!\n"
          ]
        }
      ]
    },
    {
      "cell_type": "code",
      "metadata": {
        "id": "iWC1ByszcPeJ"
      },
      "source": [
        "soup = BeautifulSoup(content, 'html.parser')\n",
        "table = soup.find(name='table')"
      ],
      "execution_count": 3,
      "outputs": []
    },
    {
      "cell_type": "code",
      "metadata": {
        "id": "E4Dlsfv2cUcl"
      },
      "source": [
        "table_str = str(table)\n",
        "df = pd.read_html(table_str)[0]"
      ],
      "execution_count": 5,
      "outputs": []
    },
    {
      "cell_type": "code",
      "metadata": {
        "id": "MzmaIHEKcdtj"
      },
      "source": [
        "table = soup.find(name='table', attrs={'id':'confs_standings_W'})"
      ],
      "execution_count": 6,
      "outputs": []
    },
    {
      "cell_type": "code",
      "metadata": {
        "colab": {
          "base_uri": "https://localhost:8080/"
        },
        "id": "XAE746VAdCwO",
        "outputId": "94f997da-2956-4a2c-8efd-6c135066a7aa"
      },
      "source": [
        "def scrape_stats(base_url, year_start, year_end):\n",
        "    years = range(year_start,year_end+1,1)\n",
        "\n",
        "    final_df = pd.DataFrame()\n",
        "\n",
        "    for year in years:\n",
        "        print('Extraindo ano {}'.format(year))\n",
        "        req_url = base_url.format(year)\n",
        "        req = requests.get(req_url)\n",
        "        soup = BeautifulSoup(req.content, 'html.parser')\n",
        "        table = soup.find('table', {'id':'totals_stats'})\n",
        "        df = pd.read_html(str(table))[0]\n",
        "        df['Year'] = year\n",
        "        final_df = final_df.append(df)\n",
        "    return final_df\n",
        "url = 'https://www.basketball-reference.com/leagues/NBA_{}_totals.html'\n",
        "df = scrape_stats(url, 2013, 2018)"
      ],
      "execution_count": 7,
      "outputs": [
        {
          "output_type": "stream",
          "name": "stdout",
          "text": [
            "Extraindo ano 2013\n",
            "Extraindo ano 2014\n",
            "Extraindo ano 2015\n",
            "Extraindo ano 2016\n",
            "Extraindo ano 2017\n",
            "Extraindo ano 2018\n"
          ]
        }
      ]
    },
    {
      "cell_type": "code",
      "metadata": {
        "id": "lTI7IjGkdUhp"
      },
      "source": [
        "drop_indexes = df[df['Rk'] == 'Rk'].index # Pega indexes onde a coluna 'Rk' possui valor 'Rk'\n",
        "df.drop(drop_indexes, inplace=True) # elimina os valores dos index passados da tabela"
      ],
      "execution_count": 8,
      "outputs": []
    },
    {
      "cell_type": "code",
      "metadata": {
        "id": "t5U03-Rqdacn"
      },
      "source": [
        "numeric_cols = df.columns.drop(['Player','Pos','Tm'])\n",
        "df[numeric_cols] = df[numeric_cols].apply(pd.to_numeric)"
      ],
      "execution_count": 9,
      "outputs": []
    },
    {
      "cell_type": "code",
      "metadata": {
        "id": "IkwzHjlyqdO5"
      },
      "source": [
        "df.reset_index(inplace=True)"
      ],
      "execution_count": 39,
      "outputs": []
    },
    {
      "cell_type": "code",
      "metadata": {
        "colab": {
          "base_uri": "https://localhost:8080/",
          "height": 279
        },
        "id": "vfakzy4CdfFg",
        "outputId": "eb648e3c-0bd8-4845-d3a0-a69361300e0c"
      },
      "source": [
        "import matplotlib.pyplot as plt\n",
        "import seaborn as sns\n",
        "ax = sns.barplot(x=\"Year\", y=\"3PA\", data=df)"
      ],
      "execution_count": 40,
      "outputs": [
        {
          "output_type": "display_data",
          "data": {
            "image/png": "[encoded data removed]",
            "text/plain": [
              "<Figure size 432x288 with 1 Axes>"
            ]
          },
          "metadata": {
            "needs_background": "light"
          }
        }
      ]
    },
    {
      "cell_type": "code",
      "metadata": {
        "colab": {
          "base_uri": "https://localhost:8080/",
          "height": 312
        },
        "id": "Uv9sOg68pZGV",
        "outputId": "b85c28ef-0d0a-49a2-927e-4f784a3a6921"
      },
      "source": [
        "df.head()"
      ],
      "execution_count": 37,
      "outputs": [
        {
          "output_type": "execute_result",
          "data": {
            "text/html": [
              "<div>\n",
              "<style scoped>\n",
              "    .dataframe tbody tr th:only-of-type {\n",
              "        vertical-align: middle;\n",
              "    }\n",
              "\n",
              "    .dataframe tbody tr th {\n",
              "        vertical-align: top;\n",
              "    }\n",
              "\n",
              "    .dataframe thead th {\n",
              "        text-align: right;\n",
              "    }\n",
              "</style>\n",
              "<table border=\"1\" class=\"dataframe\">\n",
              "  <thead>\n",
              "    <tr style=\"text-align: right;\">\n",
              "      <th></th>\n",
              "      <th>Rk</th>\n",
              "      <th>Player</th>\n",
              "      <th>Pos</th>\n",
              "      <th>Age</th>\n",
              "      <th>Tm</th>\n",
              "      <th>G</th>\n",
              "      <th>GS</th>\n",
              "      <th>MP</th>\n",
              "      <th>FG</th>\n",
              "      <th>FGA</th>\n",
              "      <th>FG%</th>\n",
              "      <th>3P</th>\n",
              "      <th>3PA</th>\n",
              "      <th>3P%</th>\n",
              "      <th>2P</th>\n",
              "      <th>2PA</th>\n",
              "      <th>2P%</th>\n",
              "      <th>eFG%</th>\n",
              "      <th>FT</th>\n",
              "      <th>FTA</th>\n",
              "      <th>FT%</th>\n",
              "      <th>ORB</th>\n",
              "      <th>DRB</th>\n",
              "      <th>TRB</th>\n",
              "      <th>AST</th>\n",
              "      <th>STL</th>\n",
              "      <th>BLK</th>\n",
              "      <th>TOV</th>\n",
              "      <th>PF</th>\n",
              "      <th>PTS</th>\n",
              "      <th>Year</th>\n",
              "    </tr>\n",
              "  </thead>\n",
              "  <tbody>\n",
              "    <tr>\n",
              "      <th>0</th>\n",
              "      <td>1</td>\n",
              "      <td>Quincy Acy</td>\n",
              "      <td>PF</td>\n",
              "      <td>22</td>\n",
              "      <td>TOR</td>\n",
              "      <td>29</td>\n",
              "      <td>0</td>\n",
              "      <td>342</td>\n",
              "      <td>42</td>\n",
              "      <td>75</td>\n",
              "      <td>0.560</td>\n",
              "      <td>1</td>\n",
              "      <td>2</td>\n",
              "      <td>0.5</td>\n",
              "      <td>41</td>\n",
              "      <td>73</td>\n",
              "      <td>0.562</td>\n",
              "      <td>0.567</td>\n",
              "      <td>31</td>\n",
              "      <td>38</td>\n",
              "      <td>0.816</td>\n",
              "      <td>30</td>\n",
              "      <td>47</td>\n",
              "      <td>77</td>\n",
              "      <td>11</td>\n",
              "      <td>13</td>\n",
              "      <td>15</td>\n",
              "      <td>17</td>\n",
              "      <td>53</td>\n",
              "      <td>116</td>\n",
              "      <td>2013</td>\n",
              "    </tr>\n",
              "    <tr>\n",
              "      <th>1</th>\n",
              "      <td>2</td>\n",
              "      <td>Jeff Adrien</td>\n",
              "      <td>PF</td>\n",
              "      <td>26</td>\n",
              "      <td>CHA</td>\n",
              "      <td>52</td>\n",
              "      <td>5</td>\n",
              "      <td>713</td>\n",
              "      <td>72</td>\n",
              "      <td>168</td>\n",
              "      <td>0.429</td>\n",
              "      <td>0</td>\n",
              "      <td>2</td>\n",
              "      <td>0.0</td>\n",
              "      <td>72</td>\n",
              "      <td>166</td>\n",
              "      <td>0.434</td>\n",
              "      <td>0.429</td>\n",
              "      <td>65</td>\n",
              "      <td>100</td>\n",
              "      <td>0.650</td>\n",
              "      <td>68</td>\n",
              "      <td>128</td>\n",
              "      <td>196</td>\n",
              "      <td>36</td>\n",
              "      <td>18</td>\n",
              "      <td>27</td>\n",
              "      <td>32</td>\n",
              "      <td>80</td>\n",
              "      <td>209</td>\n",
              "      <td>2013</td>\n",
              "    </tr>\n",
              "    <tr>\n",
              "      <th>2</th>\n",
              "      <td>3</td>\n",
              "      <td>Arron Afflalo</td>\n",
              "      <td>SF</td>\n",
              "      <td>27</td>\n",
              "      <td>ORL</td>\n",
              "      <td>64</td>\n",
              "      <td>64</td>\n",
              "      <td>2307</td>\n",
              "      <td>397</td>\n",
              "      <td>905</td>\n",
              "      <td>0.439</td>\n",
              "      <td>72</td>\n",
              "      <td>240</td>\n",
              "      <td>0.3</td>\n",
              "      <td>325</td>\n",
              "      <td>665</td>\n",
              "      <td>0.489</td>\n",
              "      <td>0.478</td>\n",
              "      <td>191</td>\n",
              "      <td>223</td>\n",
              "      <td>0.857</td>\n",
              "      <td>29</td>\n",
              "      <td>210</td>\n",
              "      <td>239</td>\n",
              "      <td>206</td>\n",
              "      <td>40</td>\n",
              "      <td>11</td>\n",
              "      <td>138</td>\n",
              "      <td>137</td>\n",
              "      <td>1057</td>\n",
              "      <td>2013</td>\n",
              "    </tr>\n",
              "    <tr>\n",
              "      <th>3</th>\n",
              "      <td>4</td>\n",
              "      <td>Josh Akognon</td>\n",
              "      <td>PG</td>\n",
              "      <td>26</td>\n",
              "      <td>DAL</td>\n",
              "      <td>3</td>\n",
              "      <td>0</td>\n",
              "      <td>9</td>\n",
              "      <td>2</td>\n",
              "      <td>4</td>\n",
              "      <td>0.500</td>\n",
              "      <td>1</td>\n",
              "      <td>2</td>\n",
              "      <td>0.5</td>\n",
              "      <td>1</td>\n",
              "      <td>2</td>\n",
              "      <td>0.500</td>\n",
              "      <td>0.625</td>\n",
              "      <td>0</td>\n",
              "      <td>0</td>\n",
              "      <td>NaN</td>\n",
              "      <td>0</td>\n",
              "      <td>1</td>\n",
              "      <td>1</td>\n",
              "      <td>1</td>\n",
              "      <td>0</td>\n",
              "      <td>0</td>\n",
              "      <td>0</td>\n",
              "      <td>3</td>\n",
              "      <td>5</td>\n",
              "      <td>2013</td>\n",
              "    </tr>\n",
              "    <tr>\n",
              "      <th>4</th>\n",
              "      <td>5</td>\n",
              "      <td>Cole Aldrich</td>\n",
              "      <td>C</td>\n",
              "      <td>24</td>\n",
              "      <td>TOT</td>\n",
              "      <td>45</td>\n",
              "      <td>0</td>\n",
              "      <td>388</td>\n",
              "      <td>44</td>\n",
              "      <td>80</td>\n",
              "      <td>0.550</td>\n",
              "      <td>0</td>\n",
              "      <td>0</td>\n",
              "      <td>NaN</td>\n",
              "      <td>44</td>\n",
              "      <td>80</td>\n",
              "      <td>0.550</td>\n",
              "      <td>0.550</td>\n",
              "      <td>12</td>\n",
              "      <td>20</td>\n",
              "      <td>0.600</td>\n",
              "      <td>30</td>\n",
              "      <td>90</td>\n",
              "      <td>120</td>\n",
              "      <td>9</td>\n",
              "      <td>5</td>\n",
              "      <td>23</td>\n",
              "      <td>23</td>\n",
              "      <td>60</td>\n",
              "      <td>100</td>\n",
              "      <td>2013</td>\n",
              "    </tr>\n",
              "  </tbody>\n",
              "</table>\n",
              "</div>"
            ],
            "text/plain": [
              "   Rk         Player Pos  Age   Tm   G  GS  ...  AST  STL  BLK  TOV   PF   PTS  Year\n",
              "0   1     Quincy Acy  PF   22  TOR  29   0  ...   11   13   15   17   53   116  2013\n",
              "1   2    Jeff Adrien  PF   26  CHA  52   5  ...   36   18   27   32   80   209  2013\n",
              "2   3  Arron Afflalo  SF   27  ORL  64  64  ...  206   40   11  138  137  1057  2013\n",
              "3   4   Josh Akognon  PG   26  DAL   3   0  ...    1    0    0    0    3     5  2013\n",
              "4   5   Cole Aldrich   C   24  TOT  45   0  ...    9    5   23   23   60   100  2013\n",
              "\n",
              "[5 rows x 31 columns]"
            ]
          },
          "metadata": {},
          "execution_count": 37
        }
      ]
    },
    {
      "cell_type": "code",
      "metadata": {
        "colab": {
          "base_uri": "https://localhost:8080/",
          "height": 279
        },
        "id": "BcnuV106mK7e",
        "outputId": "8b6bac55-3150-450a-8828-357ca2db9424"
      },
      "source": [
        "sns.lineplot(data=df, x=\"Year\", y=\"3PA\")\n",
        "plt.show()"
      ],
      "execution_count": 41,
      "outputs": [
        {
          "output_type": "display_data",
          "data": {
            "image/png": "[encoded data removed]",
            "text/plain": [
              "<Figure size 432x288 with 1 Axes>"
            ]
          },
          "metadata": {
            "needs_background": "light"
          }
        }
      ]
    },
    {
      "cell_type": "code",
      "metadata": {
        "colab": {
          "base_uri": "https://localhost:8080/",
          "height": 205
        },
        "id": "oYY0SQSud_Mi",
        "outputId": "3d520358-0fdd-4be0-c314-f38d3f853b6c"
      },
      "source": [
        "sorted_df = df.sort_values(by=['3P'], axis=0, ascending=False)\n",
        "sorted_df[['Player','3P','Year', '3PA']].head()"
      ],
      "execution_count": 23,
      "outputs": [
        {
          "output_type": "execute_result",
          "data": {
            "text/html": [
              "<div>\n",
              "<style scoped>\n",
              "    .dataframe tbody tr th:only-of-type {\n",
              "        vertical-align: middle;\n",
              "    }\n",
              "\n",
              "    .dataframe tbody tr th {\n",
              "        vertical-align: top;\n",
              "    }\n",
              "\n",
              "    .dataframe thead th {\n",
              "        text-align: right;\n",
              "    }\n",
              "</style>\n",
              "<table border=\"1\" class=\"dataframe\">\n",
              "  <thead>\n",
              "    <tr style=\"text-align: right;\">\n",
              "      <th></th>\n",
              "      <th>Player</th>\n",
              "      <th>3P</th>\n",
              "      <th>Year</th>\n",
              "      <th>3PA</th>\n",
              "    </tr>\n",
              "  </thead>\n",
              "  <tbody>\n",
              "    <tr>\n",
              "      <th>121</th>\n",
              "      <td>Stephen Curry</td>\n",
              "      <td>402</td>\n",
              "      <td>2016</td>\n",
              "      <td>886</td>\n",
              "    </tr>\n",
              "    <tr>\n",
              "      <th>124</th>\n",
              "      <td>Stephen Curry</td>\n",
              "      <td>324</td>\n",
              "      <td>2017</td>\n",
              "      <td>789</td>\n",
              "    </tr>\n",
              "    <tr>\n",
              "      <th>140</th>\n",
              "      <td>Stephen Curry</td>\n",
              "      <td>286</td>\n",
              "      <td>2015</td>\n",
              "      <td>646</td>\n",
              "    </tr>\n",
              "    <tr>\n",
              "      <th>123</th>\n",
              "      <td>Stephen Curry</td>\n",
              "      <td>272</td>\n",
              "      <td>2013</td>\n",
              "      <td>600</td>\n",
              "    </tr>\n",
              "    <tr>\n",
              "      <th>543</th>\n",
              "      <td>Klay Thompson</td>\n",
              "      <td>268</td>\n",
              "      <td>2017</td>\n",
              "      <td>647</td>\n",
              "    </tr>\n",
              "  </tbody>\n",
              "</table>\n",
              "</div>"
            ],
            "text/plain": [
              "            Player   3P  Year  3PA\n",
              "121  Stephen Curry  402  2016  886\n",
              "124  Stephen Curry  324  2017  789\n",
              "140  Stephen Curry  286  2015  646\n",
              "123  Stephen Curry  272  2013  600\n",
              "543  Klay Thompson  268  2017  647"
            ]
          },
          "metadata": {},
          "execution_count": 23
        }
      ]
    },
    {
      "cell_type": "code",
      "metadata": {
        "colab": {
          "base_uri": "https://localhost:8080/",
          "height": 205
        },
        "id": "tw1Xi8Wqem5Y",
        "outputId": "b8e1e1bf-c6a4-46f4-ef8d-8f9fd48190fd"
      },
      "source": [
        "grouped_df = df.groupby('Player', as_index=False).sum()\n",
        "sorted_df = grouped_df.sort_values(by=['3P'], axis=0, ascending=False)\n",
        "sorted_df[['Player','3P','3PA']].head()"
      ],
      "execution_count": 14,
      "outputs": [
        {
          "output_type": "execute_result",
          "data": {
            "text/html": [
              "<div>\n",
              "<style scoped>\n",
              "    .dataframe tbody tr th:only-of-type {\n",
              "        vertical-align: middle;\n",
              "    }\n",
              "\n",
              "    .dataframe tbody tr th {\n",
              "        vertical-align: top;\n",
              "    }\n",
              "\n",
              "    .dataframe thead th {\n",
              "        text-align: right;\n",
              "    }\n",
              "</style>\n",
              "<table border=\"1\" class=\"dataframe\">\n",
              "  <thead>\n",
              "    <tr style=\"text-align: right;\">\n",
              "      <th></th>\n",
              "      <th>Player</th>\n",
              "      <th>3P</th>\n",
              "      <th>3PA</th>\n",
              "    </tr>\n",
              "  </thead>\n",
              "  <tbody>\n",
              "    <tr>\n",
              "      <th>792</th>\n",
              "      <td>Stephen Curry</td>\n",
              "      <td>1496</td>\n",
              "      <td>3422</td>\n",
              "    </tr>\n",
              "    <tr>\n",
              "      <th>369</th>\n",
              "      <td>James Harden</td>\n",
              "      <td>1327</td>\n",
              "      <td>3659</td>\n",
              "    </tr>\n",
              "    <tr>\n",
              "      <th>530</th>\n",
              "      <td>Kyle Korver</td>\n",
              "      <td>1241</td>\n",
              "      <td>2746</td>\n",
              "    </tr>\n",
              "    <tr>\n",
              "      <th>517</th>\n",
              "      <td>Klay Thompson</td>\n",
              "      <td>1170</td>\n",
              "      <td>2774</td>\n",
              "    </tr>\n",
              "    <tr>\n",
              "      <th>170</th>\n",
              "      <td>Damian Lillard</td>\n",
              "      <td>1051</td>\n",
              "      <td>2893</td>\n",
              "    </tr>\n",
              "  </tbody>\n",
              "</table>\n",
              "</div>"
            ],
            "text/plain": [
              "             Player    3P   3PA\n",
              "792   Stephen Curry  1496  3422\n",
              "369    James Harden  1327  3659\n",
              "530     Kyle Korver  1241  2746\n",
              "517   Klay Thompson  1170  2774\n",
              "170  Damian Lillard  1051  2893"
            ]
          },
          "metadata": {},
          "execution_count": 14
        }
      ]
    }
  ]
}